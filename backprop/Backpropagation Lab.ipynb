{
  "cells": [
    {
      "cell_type": "markdown",
      "metadata": {
        "id": "DVL7_bgmIAPR"
      },
      "source": [
        "# Backpropagation Lab\n",
        "\n",
        "\n",
        "\n"
      ]
    },
    {
      "cell_type": "code",
      "execution_count": 1,
      "metadata": {
        "id": "6ZbYjZZZ_yLV"
      },
      "outputs": [
        {
          "name": "stderr",
          "output_type": "stream",
          "text": [
            "C:\\Users\\hende\\AppData\\Local\\Temp\\ipykernel_20896\\2079374684.py:3: DeprecationWarning: \n",
            "Pyarrow will become a required dependency of pandas in the next major release of pandas (pandas 3.0),\n",
            "(to allow more performant data types, such as the Arrow string type, and better interoperability with other libraries)\n",
            "but was not found to be installed on your system.\n",
            "If this would cause problems for you,\n",
            "please provide us feedback at https://github.com/pandas-dev/pandas/issues/54466\n",
            "        \n",
            "  import pandas as pd\n"
          ]
        }
      ],
      "source": [
        "from sklearn.neural_network import MLPClassifier\n",
        "import numpy as np\n",
        "import pandas as pd\n",
        "import matplotlib.pyplot as plt"
      ]
    },
    {
      "cell_type": "markdown",
      "metadata": {
        "id": "9vWiTdlbR2Xh"
      },
      "source": [
        "## 1 Avoiding Overfit: Early Stopping and Loss Regularization\n",
        "\n",
        "### 1.1 (10%) No overfit avoidance\n",
        "Train the sklearn [MLP classifier](https://scikit-learn.org/stable/modules/generated/sklearn.neural_network.MLPClassifier.html#sklearn.neural_network.MLPClassifier) on the [Iris Dataset](https://raw.githubusercontent.com/cs472ta/CS472/master/datasets/iris.arff).  Use 3 output nodes (1 per class). Expanding the one output variable into 3 is called one-hot encoding or dummy variable encoding. There are lots of ways to implement this including the Pandas get_dummies method. This experiment is set up to run a little longer to better see the effects of overfit.  Be patient as there are lots of hidden nodes and a high max iterations setting.\n",
        "\n",
        "Use default parameters except the following:\n",
        "- hidden_layer_sizes = [64] - One hidden layer with 64 hidden nodes\n",
        "- activation = 'logistic'\n",
        "- solver = 'sgd'\n",
        "- alpha = 0\n",
        "- batch_size = 1\n",
        "- learning_rate_init = 0.01\n",
        "- shuffle = True\n",
        "- momentum = 0\n",
        "- n_iter_no_change = 50\n",
        "- max_iterations = 1000\n",
        "\n",
        "Use a random 80/20 split of the data.  Run it a few times with different random training/test splits and give average values for\n",
        "- Number of iterations until convergence\n",
        "- Training set accuracy\n",
        "- Test set accuracy\n",
        "For one run observe the softmax probabilities on the test set using clf.predict_proba"
      ]
    },
    {
      "cell_type": "code",
      "execution_count": 9,
      "metadata": {},
      "outputs": [
        {
          "data": {
            "text/html": [
              "<div>\n",
              "<style scoped>\n",
              "    .dataframe tbody tr th:only-of-type {\n",
              "        vertical-align: middle;\n",
              "    }\n",
              "\n",
              "    .dataframe tbody tr th {\n",
              "        vertical-align: top;\n",
              "    }\n",
              "\n",
              "    .dataframe thead th {\n",
              "        text-align: right;\n",
              "    }\n",
              "</style>\n",
              "<table border=\"1\" class=\"dataframe\">\n",
              "  <thead>\n",
              "    <tr style=\"text-align: right;\">\n",
              "      <th></th>\n",
              "      <th>sepallength</th>\n",
              "      <th>sepalwidth</th>\n",
              "      <th>petallength</th>\n",
              "      <th>petalwidth</th>\n",
              "      <th>class_b'Iris-setosa'</th>\n",
              "      <th>class_b'Iris-versicolor'</th>\n",
              "      <th>class_b'Iris-virginica'</th>\n",
              "    </tr>\n",
              "  </thead>\n",
              "  <tbody>\n",
              "    <tr>\n",
              "      <th>0</th>\n",
              "      <td>5.1</td>\n",
              "      <td>3.5</td>\n",
              "      <td>1.4</td>\n",
              "      <td>0.2</td>\n",
              "      <td>True</td>\n",
              "      <td>False</td>\n",
              "      <td>False</td>\n",
              "    </tr>\n",
              "    <tr>\n",
              "      <th>1</th>\n",
              "      <td>4.9</td>\n",
              "      <td>3.0</td>\n",
              "      <td>1.4</td>\n",
              "      <td>0.2</td>\n",
              "      <td>True</td>\n",
              "      <td>False</td>\n",
              "      <td>False</td>\n",
              "    </tr>\n",
              "    <tr>\n",
              "      <th>2</th>\n",
              "      <td>4.7</td>\n",
              "      <td>3.2</td>\n",
              "      <td>1.3</td>\n",
              "      <td>0.2</td>\n",
              "      <td>True</td>\n",
              "      <td>False</td>\n",
              "      <td>False</td>\n",
              "    </tr>\n",
              "    <tr>\n",
              "      <th>3</th>\n",
              "      <td>4.6</td>\n",
              "      <td>3.1</td>\n",
              "      <td>1.5</td>\n",
              "      <td>0.2</td>\n",
              "      <td>True</td>\n",
              "      <td>False</td>\n",
              "      <td>False</td>\n",
              "    </tr>\n",
              "    <tr>\n",
              "      <th>4</th>\n",
              "      <td>5.0</td>\n",
              "      <td>3.6</td>\n",
              "      <td>1.4</td>\n",
              "      <td>0.2</td>\n",
              "      <td>True</td>\n",
              "      <td>False</td>\n",
              "      <td>False</td>\n",
              "    </tr>\n",
              "  </tbody>\n",
              "</table>\n",
              "</div>"
            ],
            "text/plain": [
              "   sepallength  sepalwidth  petallength  petalwidth  class_b'Iris-setosa'  \\\n",
              "0          5.1         3.5          1.4         0.2                  True   \n",
              "1          4.9         3.0          1.4         0.2                  True   \n",
              "2          4.7         3.2          1.3         0.2                  True   \n",
              "3          4.6         3.1          1.5         0.2                  True   \n",
              "4          5.0         3.6          1.4         0.2                  True   \n",
              "\n",
              "   class_b'Iris-versicolor'  class_b'Iris-virginica'  \n",
              "0                     False                    False  \n",
              "1                     False                    False  \n",
              "2                     False                    False  \n",
              "3                     False                    False  \n",
              "4                     False                    False  "
            ]
          },
          "execution_count": 9,
          "metadata": {},
          "output_type": "execute_result"
        }
      ],
      "source": [
        "#Iris with no regularization\n",
        "from scipy.io import arff\n",
        "\n",
        "iris_arff = arff.loadarff('iris.arff')\n",
        "iris_df = pd.DataFrame(iris_arff[0])\n",
        "\n",
        "# expand target class into 3 columns\n",
        "iris_df_dummies = pd.get_dummies(iris_df['class'], prefix='class')\n",
        "iris_df = pd.concat([iris_df, iris_df_dummies], axis=1)\n",
        "iris_df = iris_df.drop('class', axis=1)\n",
        "iris_df.head()"
      ]
    },
    {
      "cell_type": "code",
      "execution_count": 21,
      "metadata": {},
      "outputs": [],
      "source": [
        "from sklearn.model_selection import train_test_split\n",
        "X_columns = ['sepallength', 'sepalwidth', 'petallength', 'petalwidth']\n",
        "X = iris_df[X_columns]\n",
        "y = iris_df.drop(X_columns, axis=1)\n",
        "X_train, X_test, y_train, y_test = train_test_split(X, y, test_size=0.2)"
      ]
    },
    {
      "cell_type": "code",
      "execution_count": null,
      "metadata": {},
      "outputs": [],
      "source": [
        "clf = MLPClassifier(hidden_layer_sizes=[64], activation='logistic', solver='sgd', \n",
        "                    alpha=0, batch_size=1, learning_rate_init=0.01, shuffle=True, \n",
        "                    momentum=0, n_iter_no_change=50, max_iter=1000, verbose=1)\n",
        "clf.fit(X_train, y_train)"
      ]
    },
    {
      "cell_type": "code",
      "execution_count": 23,
      "metadata": {},
      "outputs": [
        {
          "name": "stdout",
          "output_type": "stream",
          "text": [
            "Training set accuracy:\t 0.9833333333333333\n",
            "Test set accuracy:\t 0.9666666666666667\n"
          ]
        }
      ],
      "source": [
        "print('Training set accuracy:\\t', clf.score(X_train, y_train))\n",
        "print('Test set accuracy:\\t', clf.score(X_test, y_test))"
      ]
    },
    {
      "cell_type": "markdown",
      "metadata": {},
      "source": [
        "*Discussion*\n",
        "\n",
        "| num | epochs til convergence | train accuracy | test accuracy |\n",
        "| --- | --------------------- | -------------- | ------------- |\n",
        "| 1 | 287 | 0.983 | 0.867 |\n",
        "| 2 | 243 | 0.975 | 0.967 |\n",
        "| 3 | 249 | 0.975 | 1.000 |\n",
        "| 4 | 269 | 0.992 | 0.967 |\n",
        "| 5 | 249 | 0.983 | 0.967 |\n",
        "| -- | -- | -- | -- |\n",
        "| AVG | 259.4 | 0.982 | 0.954 |\n",
        "\n",
        "The number of epochs until convergence and the accuracy on the training set both have fairly low spreads, which makes sense, because the dataset didn't change, just the train-test split and some randomness in the internal training shuffling. On the other hand, the accuracy on the test set has a slightly larger spread, from ~87% to 100%. This suggests that the generalizing ability of the model depends on the train-test split.\n",
        "\n",
        "It surprised me that there was a train-test split that resulted in 100% accuracy on the test set. This could be because the dataset has only 150 rows. With a 80-20 train-test split, that leaves only 30 rows for the test set. It could be that that particular run had an \"easy\" test set. This is a probable explanation, because in one of the softmax probability results, there were several rows where one of the options had >99.9% probability (easier rows), but a few rows where the highest probability was less than 80%, with one row where the highest probability was less than 60% (harder rows). Therefore, it is probably that this one run with test accuracy of 100% just had an \"easy\" test set."
      ]
    },
    {
      "cell_type": "markdown",
      "metadata": {},
      "source": [
        "### 1.2 (10%) Early Stopping (Validation Set)\n",
        "\n",
        "- Do the same as above but his time with early stopping\n",
        "- Use a validation set taken from the training set for your stopping criteria. Using 10-15% of the training set for a validation set is common. You do this simply by setting the MLPClassifier early_stopping, validation_fraction, and n_iter_no_change parameters.\n",
        "- Run it a few times with different training/test splits and give average values for\n",
        "    - Number of iterations until convergence\n",
        "    - Training set accuracy\n",
        "    - Test set accuracy\n",
        "    - Best validation score (MLPClassifer attribute best_validation_score_)\n",
        "- For one run create a graph with validation set accuracy (*y*-axis) vs epochs (*x*-axis). Hint: MLPClassifer attribute validation_scores_\n",
        "\n",
        "Note: Due to the simplicity of and lack of noise in the iris data set you will not see the accuracy improvements that early stopping or loss regularization can give for more complex noisy datasets.  In particular, early stopping will have lower than expected results because with a very small VS taken from a very small training set there is less data to train on and more variance with the VS score.  Thus, you will probably get lower accuracies for VS than normal training for this less typical case.  But at least you will get practice on using early stopping and loss regularization for future data sets."
      ]
    },
    {
      "cell_type": "code",
      "execution_count": 3,
      "metadata": {},
      "outputs": [
        {
          "data": {
            "text/html": [
              "<div>\n",
              "<style scoped>\n",
              "    .dataframe tbody tr th:only-of-type {\n",
              "        vertical-align: middle;\n",
              "    }\n",
              "\n",
              "    .dataframe tbody tr th {\n",
              "        vertical-align: top;\n",
              "    }\n",
              "\n",
              "    .dataframe thead th {\n",
              "        text-align: right;\n",
              "    }\n",
              "</style>\n",
              "<table border=\"1\" class=\"dataframe\">\n",
              "  <thead>\n",
              "    <tr style=\"text-align: right;\">\n",
              "      <th></th>\n",
              "      <th>sepallength</th>\n",
              "      <th>sepalwidth</th>\n",
              "      <th>petallength</th>\n",
              "      <th>petalwidth</th>\n",
              "      <th>class_b'Iris-setosa'</th>\n",
              "      <th>class_b'Iris-versicolor'</th>\n",
              "      <th>class_b'Iris-virginica'</th>\n",
              "    </tr>\n",
              "  </thead>\n",
              "  <tbody>\n",
              "    <tr>\n",
              "      <th>0</th>\n",
              "      <td>5.1</td>\n",
              "      <td>3.5</td>\n",
              "      <td>1.4</td>\n",
              "      <td>0.2</td>\n",
              "      <td>True</td>\n",
              "      <td>False</td>\n",
              "      <td>False</td>\n",
              "    </tr>\n",
              "    <tr>\n",
              "      <th>1</th>\n",
              "      <td>4.9</td>\n",
              "      <td>3.0</td>\n",
              "      <td>1.4</td>\n",
              "      <td>0.2</td>\n",
              "      <td>True</td>\n",
              "      <td>False</td>\n",
              "      <td>False</td>\n",
              "    </tr>\n",
              "    <tr>\n",
              "      <th>2</th>\n",
              "      <td>4.7</td>\n",
              "      <td>3.2</td>\n",
              "      <td>1.3</td>\n",
              "      <td>0.2</td>\n",
              "      <td>True</td>\n",
              "      <td>False</td>\n",
              "      <td>False</td>\n",
              "    </tr>\n",
              "    <tr>\n",
              "      <th>3</th>\n",
              "      <td>4.6</td>\n",
              "      <td>3.1</td>\n",
              "      <td>1.5</td>\n",
              "      <td>0.2</td>\n",
              "      <td>True</td>\n",
              "      <td>False</td>\n",
              "      <td>False</td>\n",
              "    </tr>\n",
              "    <tr>\n",
              "      <th>4</th>\n",
              "      <td>5.0</td>\n",
              "      <td>3.6</td>\n",
              "      <td>1.4</td>\n",
              "      <td>0.2</td>\n",
              "      <td>True</td>\n",
              "      <td>False</td>\n",
              "      <td>False</td>\n",
              "    </tr>\n",
              "  </tbody>\n",
              "</table>\n",
              "</div>"
            ],
            "text/plain": [
              "   sepallength  sepalwidth  petallength  petalwidth  class_b'Iris-setosa'  \\\n",
              "0          5.1         3.5          1.4         0.2                  True   \n",
              "1          4.9         3.0          1.4         0.2                  True   \n",
              "2          4.7         3.2          1.3         0.2                  True   \n",
              "3          4.6         3.1          1.5         0.2                  True   \n",
              "4          5.0         3.6          1.4         0.2                  True   \n",
              "\n",
              "   class_b'Iris-versicolor'  class_b'Iris-virginica'  \n",
              "0                     False                    False  \n",
              "1                     False                    False  \n",
              "2                     False                    False  \n",
              "3                     False                    False  \n",
              "4                     False                    False  "
            ]
          },
          "execution_count": 3,
          "metadata": {},
          "output_type": "execute_result"
        }
      ],
      "source": [
        "from scipy.io import arff\n",
        "\n",
        "iris_arff = arff.loadarff('iris.arff')\n",
        "iris_df = pd.DataFrame(iris_arff[0])\n",
        "\n",
        "# expand target class into 3 columns\n",
        "iris_df_dummies = pd.get_dummies(iris_df['class'], prefix='class')\n",
        "iris_df = pd.concat([iris_df, iris_df_dummies], axis=1)\n",
        "iris_df = iris_df.drop('class', axis=1)\n",
        "iris_df.head()"
      ]
    },
    {
      "cell_type": "code",
      "execution_count": 18,
      "metadata": {},
      "outputs": [],
      "source": [
        "#Iris with early stopping and validation scores graph\n",
        "from sklearn.model_selection import train_test_split\n",
        "X_columns = ['sepallength', 'sepalwidth', 'petallength', 'petalwidth']\n",
        "X = iris_df[X_columns]\n",
        "y = iris_df.drop(X_columns, axis=1)\n",
        "X_train, X_test, y_train, y_test = train_test_split(X, y, test_size=0.2)"
      ]
    },
    {
      "cell_type": "code",
      "execution_count": null,
      "metadata": {},
      "outputs": [],
      "source": [
        "\n",
        "clf = MLPClassifier(hidden_layer_sizes=[64], activation='logistic', solver='sgd', \n",
        "                    alpha=0, batch_size=1, learning_rate_init=0.01, shuffle=True, \n",
        "                    momentum=0, n_iter_no_change=50, max_iter=1000, early_stopping=True,\n",
        "                    validation_fraction=0.1, verbose=1)\n",
        "clf.fit(X_train, y_train)"
      ]
    },
    {
      "cell_type": "code",
      "execution_count": 20,
      "metadata": {},
      "outputs": [
        {
          "name": "stdout",
          "output_type": "stream",
          "text": [
            "Training set accuracy:\t 0.9583333333333334\n",
            "Test set accuracy:\t 0.8333333333333334\n",
            "Best validation score:\t 0.9166666666666666\n"
          ]
        }
      ],
      "source": [
        "print('Training set accuracy:\\t', clf.score(X_train, y_train))\n",
        "print('Test set accuracy:\\t', clf.score(X_test, y_test))\n",
        "print('Best validation score:\\t', clf.best_validation_score_)"
      ]
    },
    {
      "cell_type": "code",
      "execution_count": 22,
      "metadata": {},
      "outputs": [
        {
          "data": {
            "image/png": "[encoded data removed]",
            "text/plain": [
              "<Figure size 640x480 with 1 Axes>"
            ]
          },
          "metadata": {},
          "output_type": "display_data"
        }
      ],
      "source": [
        "import matplotlib.pyplot as plt\n",
        "\n",
        "epochs = list(range(114))\n",
        "\n",
        "plt.plot(epochs, clf.validation_scores_)\n",
        "\n",
        "plt.xlabel('Epochs')\n",
        "plt.ylabel('Validation Accuracy')\n",
        "plt.title('Validation Accuracy vs Epochs')\n",
        "\n",
        "plt.show()"
      ]
    },
    {
      "cell_type": "markdown",
      "metadata": {
        "id": "ZNMATZqjtlxs"
      },
      "source": [
        "*Discussion of average values above and the validation score graph*\n",
        "\n",
        "| num | epochs til convergence | train accuracy | test accuracy | best validation score |\n",
        "| --- | --------------------- | -------------- | ------------- | --------------------- |\n",
        "| 1 | 101 | 0.858 | 0.900 | 1.000 |\n",
        "| 2 | 104 | 0.875 | 0.800 | 1.000 |\n",
        "| 3 | 131 | 0.892 | 0.933 | 1.000 |\n",
        "| 4 | 117 | 0.900 | 0.967 | 0.917 |\n",
        "| 5 | 114 | 0.958 | 0.833 | 0.917 |\n",
        "| -- | -- | -- | -- | -- |\n",
        "| AVG | 113.4 | 0.897 | 0.887 | 0.967 |\n",
        "\n",
        "The average number of epochs until convergence is much lower than the version without early stopping. This makes sense, because the early-stopping option will have the training stop early if it meets a certain criteria, which in this case was based on the improvement of the validation set. The average training accuracy and test accuracy were both below 90%, which makes sense because the whole dataset is fairly small, so doing a train-test split and then a train-validation split and then including the early-stopping attribute gave the model very little data and time to train. This led to lower average accuracy scores.\n",
        "\n",
        "Another notable thing is that the best validation score was often 100%. This could be because the validation set is so small that one of the validations had an \"easy\" set. \n",
        "\n",
        "Lastly, the graph shows an interesting trend. It shows that the validation accuracy was in two stages. First, it stayed around 50% accuracy. Then, at around 60 epochs, it jumped up to around 90% accuracy and stayed around there for the remainder of the training. This jump could have been a turning point for the model, where it got around a local minimum or through a flat stretch and started descending quickly again, until it found another local minimum or flat stretch at around 90% accuracy."
      ]
    },
    {
      "cell_type": "markdown",
      "metadata": {},
      "source": [
        "### 1.3 (10%) Loss Regularization\n",
        "\n",
        "- Do the same as in 1.1 but his time with loss regularization (Do not do early stopping)\n",
        "- Run it with different L2 regularization parameter values (alpha).  The default for alpha is .0001.  Try other values such as .1, .01, .001, .00001, etc. Make a table with each row including:\n",
        "    - The regularization parameter value\n",
        "    - Number of iterations until convergence\n",
        "    - Training set accuracy\n",
        "    - Test set accuracy\n",
        "    - Best loss value (MLPClassifer attribute best_loss_)\n",
        "- Which regularization value gave you the best results?\n",
        "- For your best regularization value do one run and create a graph with loss (*y*-axis) vs epochs (*x*-axis) for the training set (Hint: MLPClassifer attribute loss_curve_)"
      ]
    },
    {
      "cell_type": "code",
      "execution_count": null,
      "metadata": {},
      "outputs": [],
      "source": [
        "from scipy.io import arff\n",
        "\n",
        "iris_arff = arff.loadarff('iris.arff')\n",
        "iris_df = pd.DataFrame(iris_arff[0])\n",
        "\n",
        "# expand target class into 3 columns\n",
        "iris_df_dummies = pd.get_dummies(iris_df['class'], prefix='class')\n",
        "iris_df = pd.concat([iris_df, iris_df_dummies], axis=1)\n",
        "iris_df = iris_df.drop('class', axis=1)\n",
        "iris_df.head()"
      ]
    },
    {
      "cell_type": "code",
      "execution_count": 42,
      "metadata": {},
      "outputs": [],
      "source": [
        "#Iris with Loss Regularization \n",
        "from sklearn.model_selection import train_test_split\n",
        "X_columns = ['sepallength', 'sepalwidth', 'petallength', 'petalwidth']\n",
        "X = iris_df[X_columns]\n",
        "y = iris_df.drop(X_columns, axis=1)\n",
        "X_train, X_test, y_train, y_test = train_test_split(X, y, test_size=0.2)"
      ]
    },
    {
      "cell_type": "code",
      "execution_count": null,
      "metadata": {},
      "outputs": [],
      "source": [
        "alpha = 0.00001\n",
        "clf = MLPClassifier(hidden_layer_sizes=[64], activation='logistic', solver='sgd', \n",
        "                    alpha=alpha, batch_size=1, learning_rate_init=0.01, shuffle=True, \n",
        "                    momentum=0, n_iter_no_change=50, max_iter=1000, verbose=1)\n",
        "clf.fit(X_train, y_train)"
      ]
    },
    {
      "cell_type": "code",
      "execution_count": 46,
      "metadata": {},
      "outputs": [
        {
          "name": "stdout",
          "output_type": "stream",
          "text": [
            "Training set accuracy:\t 0.9666666666666667\n",
            "Test set accuracy:\t 0.9666666666666667\n",
            "Best lost value:\t 0.11921492820018526\n"
          ]
        }
      ],
      "source": [
        "print('Training set accuracy:\\t', clf.score(X_train, y_train))\n",
        "print('Test set accuracy:\\t', clf.score(X_test, y_test))\n",
        "print('Best lost value:\\t', clf.best_loss_)"
      ]
    },
    {
      "cell_type": "code",
      "execution_count": 47,
      "metadata": {},
      "outputs": [
        {
          "data": {
            "image/png": "[encoded data removed]",
            "text/plain": [
              "<Figure size 640x480 with 1 Axes>"
            ]
          },
          "metadata": {},
          "output_type": "display_data"
        }
      ],
      "source": [
        "import matplotlib.pyplot as plt\n",
        "\n",
        "epochs = list(range(len(clf.loss_curve_)))\n",
        "\n",
        "plt.plot(epochs, clf.loss_curve_)\n",
        "\n",
        "plt.xlabel('Epochs')\n",
        "plt.ylabel('Loss')\n",
        "plt.title('Loss vs Epochs for the Training Set')\n",
        "\n",
        "plt.show()"
      ]
    },
    {
      "cell_type": "markdown",
      "metadata": {},
      "source": [
        "*Discussion and comparison between no regularization, early stopping and loss regularization*\n",
        "\n",
        "| alpha | epochs til convergence | train accuracy | test accuracy | best lost value |\n",
        "| ----- | --------------------- | -------------- | ------------- | --------------- |\n",
        "| 0.1 | 197 | 0.625 | 0.5 | 1.598 |\n",
        "| 0.01 | 266 | 0.875 | 0.833 | 0.771 |\n",
        "| 0.001 | 248 | 0.983 | 0.967 | 0.238 |\n",
        "| 0.0001 | 310 | 0.967 | 0.967 | 0.138 |\n",
        "| 0.00001 | 335 | 0.967 | 0.967 | 0.119 |\n",
        "\n",
        "\n",
        "The models with `alpha=0.0001` and `alpha=0.00001` where nearly identical in the result metrics that are shown in the table. The latter just had some more iterations and a lower \"best lost value\". On the other hand, the model with `alpha=0.1` is by far the worst performing model, with a training accuracy of 62.5% and a test accuracy of just 50%. In that case, the regularization kept the model too general and didn't allow it to fit the data enough. \n",
        "\n",
        "The models started seeing good results at around `alpha=0.001`, which suggests that it may be a good idea to keep `alpha` between `0.001` and `0.0001`. A higher alpha leads to a simpler model, and by the Occam's Razor principle, a simpler model is often the better model. \n",
        "\n",
        "In comparison to no regularization and early stopping, the loss regularization method seems to have the best results for this dataset. The early stopping method didn't have much of a chance, since the dataset is so small, so it could still be an effective method, but it needs more data to perform well. The no regularization method was fine, but seemed to over fit a bit. In contrast, the loss regularization method was able to curb over fitting and produced results that, based on the stats in the table, seemed to generalize well."
      ]
    },
    {
      "cell_type": "markdown",
      "metadata": {
        "id": "mOteTlV6S0bq"
      },
      "source": [
        "## 2 Hyperparameters \n",
        "In this section we use the [Vowel Dataset](https://raw.githubusercontent.com/cs472ta/CS472/master/datasets/vowel.arff) to consider the hyperparameters of learning rate, number of hidden nodes, and momentum. \n",
        "\n",
        "### 2.1 (10%) Vowel Dataset Questions\n",
        "- Give the baseline accuracies for the Iris and Vowel datasets. Baseline accuracy is what you would get if the model just outputs the majority class of the data set (i.e. the output value which occurs most often). These two data sets are not great example for this as they have an equal amount of each class, which is not typical.\n",
        "- Discuss why the vowel data set will probably have lower accuracy than Iris.\n",
        "- Consider which of the vowel dataset's input features you should not use in training and discuss why."
      ]
    },
    {
      "cell_type": "markdown",
      "metadata": {
        "id": "qmq9GSbJS8k2"
      },
      "source": [
        "*Discuss these items here*\n",
        "\n",
        "Since both datasets have the same number of rows for each target class, the baseline accuracy is directly related to the number of classes in each dataset. For the Iris dataset, there are 3 classes. Therefore, the baseline accuracy is $1/3=33.3\\%$. For the Vowel dataset, there are 11 classes, so the baseline accuracy is $1/11=9.1\\%$. \n",
        "\n",
        "The vowel data set will probably have lower accuracy than the Iris dataset because there are more ways to be wrong in the vowel dataset. Since there are more target classes, the model has to make more distinctions and be more accurate. With the Iris dataset, there were only two wrong answers, so the model had less to figure out. On the other hand, the Vowel dataset has 10 wrong answers, so the model will have to learn more and be more detailed and precise.\n",
        "\n",
        "From analyzing the output from sweetviz, it appears that the \"Train or Test\", \"Speaker Number\", and \"Sex\" features have no correlation with the target. After further inspection, it looks like each speaker is either Train or Test, Male or Female, but has an equal number of each \"Class\". Therefore, these three features have no correlation with the target \"Class\" and so do not add any relevant information to the model. Thus, they should not be included in the training data."
      ]
    },
    {
      "cell_type": "code",
      "execution_count": 15,
      "metadata": {},
      "outputs": [
        {
          "name": "stderr",
          "output_type": "stream",
          "text": [
            "Feature: Train or Test                       |▋         | [  7%]   00:00 -> (00:00 left)"
          ]
        },
        {
          "name": "stderr",
          "output_type": "stream",
          "text": [
            "Done! Use 'show' commands to display/save.   |██████████| [100%]   00:01 -> (00:00 left)\n"
          ]
        },
        {
          "name": "stdout",
          "output_type": "stream",
          "text": [
            "Report SWEETVIZ_REPORT.html was generated! NOTEBOOK/COLAB USERS: the web browser MAY not pop up, regardless, the report IS saved in your notebook/colab files.\n"
          ]
        }
      ],
      "source": [
        "# vowel report\n",
        "from scipy.io import arff\n",
        "import sweetviz as sv\n",
        "\n",
        "vowel_arff = arff.loadarff('vowel.arff')\n",
        "vowel_df = pd.DataFrame(vowel_arff[0])\n",
        "\n",
        "report = sv.analyze(vowel_df)\n",
        "report.show_html()"
      ]
    },
    {
      "cell_type": "code",
      "execution_count": 14,
      "metadata": {},
      "outputs": [
        {
          "name": "stderr",
          "output_type": "stream",
          "text": [
            "Done! Use 'show' commands to display/save.   |██████████| [100%]   00:00 -> (00:00 left)\n"
          ]
        },
        {
          "name": "stdout",
          "output_type": "stream",
          "text": [
            "Report SWEETVIZ_REPORT.html was generated! NOTEBOOK/COLAB USERS: the web browser MAY not pop up, regardless, the report IS saved in your notebook/colab files.\n"
          ]
        }
      ],
      "source": [
        "# iris report\n",
        "from scipy.io import arff\n",
        "\n",
        "iris_arff = arff.loadarff('iris.arff')\n",
        "iris_df = pd.DataFrame(iris_arff[0])\n",
        "\n",
        "report_iris = sv.analyze(iris_df)\n",
        "report_iris.show_html()"
      ]
    },
    {
      "cell_type": "markdown",
      "metadata": {
        "id": "SIRG42TgSR4x"
      },
      "source": [
        "### 2.2 (10%) Learning Rate\n",
        "Load the [Vowel Dataset](https://raw.githubusercontent.com/cs472ta/CS472/master/datasets/vowel.arff). Drop any features which you explained above as being inappropriate for training.\n",
        "\n",
        "Hints: Consider the Pandas drop method for dropping columns. When you want to transform features in your data set there are lots of approaches. You could edit the arff file directly, or make the transforms in your code.  The Pandas replace method is nice for that. For example, if you wanted to change the vowel data set gender feature in a Pandas dataframe to 0/1 you could do the following:\n",
        "\n",
        "vowel_df['Sex'] = vowel_df['Sex'].str.decode('utf-8')   //Changes the byte code data into a normal string, b'Male' becomes \"Male\"\\\n",
        "vowel_df = vowel_df.replace('Male', 0)\\\n",
        "vowel_df = vowel_df.replace('Female', 1)\n",
        "\n",
        "- Use one layer of hidden nodes with the number of hidden nodes being twice the number of inputs.\n",
        "- Use a random 75/25 split of the data for the training/test set.\n",
        "- Do not use early stopping.\n",
        "- Try at least 5 different learning rates (LR) from very small (e.g. .001) to pretty big (e.g. 10). Each LR will require a different number of epochs to learn. LR effects both accuracy and time required for learning.\n",
        "- Create a table which includes a row for each LR.  Your table columns should be LR, # epochs to learn the model, final training set accuracy and final test set accuracy.  As learning rates get smaller, it usually takes more epochs to learn. If your model is stopping learning too soon (converging) by hitting max_iterations (in this case and in experiments below), then you need to increase your max_iterations parameter in order to give your model a fair chance.  To keep things faster, you don't need to increase max_iter past 1000 if you don't want to, but point out when more iterations may have given improvement.\n",
        "\n",
        "In real testing one averages the results of multiple trials per LR (and other parameters) with different intitial conditions (training/test split, initial weights, etc.). That gives more accurate results but is not required for this lab."
      ]
    },
    {
      "cell_type": "code",
      "execution_count": null,
      "metadata": {},
      "outputs": [],
      "source": [
        "# Train with different learning rates\n",
        "from scipy.io import arff\n",
        "\n",
        "vowel_arff = arff.loadarff('vowel.arff')\n",
        "vowel_df = pd.DataFrame(vowel_arff[0])\n",
        "\n",
        "# expand target class into 11 columns\n",
        "vowel_df_dummies = pd.get_dummies(vowel_df['Class'], prefix='Class')\n",
        "vowel_df = pd.concat([vowel_df, vowel_df_dummies], axis=1)\n",
        "vowel_df = vowel_df.drop('Class', axis=1)\n",
        "\n",
        "# drop irrelevant features\n",
        "vowel_df = vowel_df.drop(['Train or Test', 'Speaker Number', 'Sex'], axis=1)\n",
        "\n",
        "vowel_df.head()"
      ]
    },
    {
      "cell_type": "code",
      "execution_count": 22,
      "metadata": {},
      "outputs": [],
      "source": [
        "X_columns = ['Feature 0', 'Feature 1', 'Feature 2', 'Feature 3', 'Feature 4', 'Feature 5', 'Feature 6', 'Feature 7', 'Feature 8', 'Feature 9']\n",
        "X = vowel_df[X_columns]\n",
        "y = vowel_df.drop(X_columns, axis=1)"
      ]
    },
    {
      "cell_type": "code",
      "execution_count": 62,
      "metadata": {},
      "outputs": [],
      "source": [
        "from sklearn.model_selection import train_test_split\n",
        "X_train, X_test, y_train, y_test = train_test_split(X, y, test_size=0.25)"
      ]
    },
    {
      "cell_type": "code",
      "execution_count": null,
      "metadata": {},
      "outputs": [],
      "source": [
        "learning_rate=0.01\n",
        "clf = MLPClassifier(hidden_layer_sizes=[20], activation='logistic', solver='sgd', \n",
        "                    alpha=0, batch_size=1, learning_rate_init=learning_rate, shuffle=True, \n",
        "                    momentum=0, n_iter_no_change=50, max_iter=1000, verbose=1)\n",
        "clf.fit(X_train, y_train)"
      ]
    },
    {
      "cell_type": "code",
      "execution_count": 64,
      "metadata": {},
      "outputs": [
        {
          "name": "stdout",
          "output_type": "stream",
          "text": [
            "Training set accuracy:\t 0.9097035040431267\n",
            "Test set accuracy:\t 0.7459677419354839\n"
          ]
        }
      ],
      "source": [
        "print('Training set accuracy:\\t', clf.score(X_train, y_train))\n",
        "print('Test set accuracy:\\t', clf.score(X_test, y_test))"
      ]
    },
    {
      "cell_type": "markdown",
      "metadata": {
        "id": "xpjJBIwktlxt"
      },
      "source": [
        "*Discuss your table and the effect of different learning rates on both training time and accuracy*\n",
        "\n",
        "| learning rate | epochs til convergence | train accuracy | test accuracy |\n",
        "| ------------- | --------------------- | -------------- | ------------- |\n",
        "| 0.01 | 1000 (hit max iters) | 0.909 | 0.746 |\n",
        "| 0.1 | 493 | 0.934 | 0.815 |\n",
        "| 0.5 | 410 | 0.825 | 0.750 |\n",
        "| 1.0 | 348 | 0.445 | 0.423 |\n",
        "| 10 | 52 | 0.094 | 0.081 |\n",
        "\n",
        "The learning rates of `0.01` and `0.1` did the best in this comparison. However, the run where `learning_rate=0.01` seemed to have more potential than the one where `learning_rate=0.1`. It just hit the maximum number of iterations before it could fully converge. On the other hand, the higher learning rates (`0.5`, `1.0`, and `10`) had low accuracy scores, with `learning_rate=10` producing a model that performed worse on the test set than the baseline accuracy. From the data on this table, there is a clear pattern. The higher the learning rate, the lower the number of epochs, and the lower the train and test accuracy. Thus, it is crucial to find a good balance between the number of epochs (and therefore time to train) and the accuracy of the model."
      ]
    },
    {
      "cell_type": "markdown",
      "metadata": {
        "id": "A-nUu5Txtlxt"
      },
      "source": [
        "### 2.3 (10%) Number of Hidden Nodes\n",
        "\n",
        "Using the best LR you discovered, experiment with different numbers of hidden nodes.\n",
        "\n",
        "- Start with 1 hidden node, then 2, and then double them for each test until you get no more improvement in accuracy. \n",
        "- Create a table just like above, except with # of hidden nodes rather than LR.\n",
        "\n",
        "In general, whenever you are testing a parameter such as # of hidden nodes, keep testing values until no more improvement is found. For example, if 20 hidden nodes did better than 10, you would not stop at 20, but would try 40, etc., until you no longer got improvement."
      ]
    },
    {
      "cell_type": "code",
      "execution_count": 74,
      "metadata": {
        "id": "uLqeA1iutlxt"
      },
      "outputs": [
        {
          "name": "stdout",
          "output_type": "stream",
          "text": [
            "Iteration 1, loss = 3.86566715\n",
            "Iteration 2, loss = 2.68014124\n",
            "Iteration 3, loss = 2.43785717\n",
            "Iteration 4, loss = 2.24985675\n",
            "Iteration 5, loss = 2.11610898\n",
            "Iteration 6, loss = 1.99468549\n",
            "Iteration 7, loss = 1.90080761\n",
            "Iteration 8, loss = 1.78776966\n",
            "Iteration 9, loss = 1.69005199\n",
            "Iteration 10, loss = 1.62487850\n",
            "Iteration 11, loss = 1.53861968\n",
            "Iteration 12, loss = 1.50630255\n",
            "Iteration 13, loss = 1.42955697\n",
            "Iteration 14, loss = 1.41476141\n",
            "Iteration 15, loss = 1.36797419\n",
            "Iteration 16, loss = 1.30303497\n",
            "Iteration 17, loss = 1.30941457\n",
            "Iteration 18, loss = 1.27217408\n",
            "Iteration 19, loss = 1.22047214\n",
            "Iteration 20, loss = 1.19415089\n",
            "Iteration 21, loss = 1.15989879\n",
            "Iteration 22, loss = 1.14760711\n",
            "Iteration 23, loss = 1.12169442\n",
            "Iteration 24, loss = 1.05531796\n",
            "Iteration 25, loss = 1.06196855\n",
            "Iteration 26, loss = 1.02446544\n",
            "Iteration 27, loss = 1.00556527\n",
            "Iteration 28, loss = 0.99285041\n",
            "Iteration 29, loss = 0.94864048\n",
            "Iteration 30, loss = 0.94670672\n",
            "Iteration 31, loss = 0.93127938\n",
            "Iteration 32, loss = 0.86329994\n",
            "Iteration 33, loss = 0.88133602\n",
            "Iteration 34, loss = 0.83517716\n",
            "Iteration 35, loss = 0.83006928\n",
            "Iteration 36, loss = 0.80545868\n",
            "Iteration 37, loss = 0.78428224\n",
            "Iteration 38, loss = 0.77699125\n",
            "Iteration 39, loss = 0.71552165\n",
            "Iteration 40, loss = 0.72922738\n",
            "Iteration 41, loss = 0.71631629\n",
            "Iteration 42, loss = 0.68458878\n",
            "Iteration 43, loss = 0.66448207\n",
            "Iteration 44, loss = 0.65656878\n",
            "Iteration 45, loss = 0.62628673\n",
            "Iteration 46, loss = 0.61373373\n",
            "Iteration 47, loss = 0.59840714\n",
            "Iteration 48, loss = 0.56052865\n",
            "Iteration 49, loss = 0.56137096\n",
            "Iteration 50, loss = 0.56170157\n",
            "Iteration 51, loss = 0.53191073\n",
            "Iteration 52, loss = 0.52074098\n",
            "Iteration 53, loss = 0.50448370\n",
            "Iteration 54, loss = 0.50473834\n",
            "Iteration 55, loss = 0.48920559\n",
            "Iteration 56, loss = 0.46492001\n",
            "Iteration 57, loss = 0.45859185\n",
            "Iteration 58, loss = 0.44691537\n",
            "Iteration 59, loss = 0.41152074\n",
            "Iteration 60, loss = 0.41809910\n",
            "Iteration 61, loss = 0.41050063\n",
            "Iteration 62, loss = 0.39612850\n",
            "Iteration 63, loss = 0.40011618\n",
            "Iteration 64, loss = 0.38244071\n",
            "Iteration 65, loss = 0.36952276\n",
            "Iteration 66, loss = 0.37014456\n",
            "Iteration 67, loss = 0.35077397\n",
            "Iteration 68, loss = 0.35106864\n",
            "Iteration 69, loss = 0.33878954\n",
            "Iteration 70, loss = 0.33163027\n",
            "Iteration 71, loss = 0.30417997\n",
            "Iteration 72, loss = 0.33973265\n",
            "Iteration 73, loss = 0.30879152\n",
            "Iteration 74, loss = 0.30757151\n",
            "Iteration 75, loss = 0.28097932\n",
            "Iteration 76, loss = 0.29157914\n",
            "Iteration 77, loss = 0.29378108\n",
            "Iteration 78, loss = 0.27969327\n",
            "Iteration 79, loss = 0.26439077\n",
            "Iteration 80, loss = 0.25913235\n",
            "Iteration 81, loss = 0.23639240\n",
            "Iteration 82, loss = 0.26488748\n",
            "Iteration 83, loss = 0.24589310\n",
            "Iteration 84, loss = 0.22511782\n",
            "Iteration 85, loss = 0.23134359\n",
            "Iteration 86, loss = 0.22652268\n",
            "Iteration 87, loss = 0.22810426\n",
            "Iteration 88, loss = 0.21449127\n",
            "Iteration 89, loss = 0.22070105\n",
            "Iteration 90, loss = 0.21981809\n",
            "Iteration 91, loss = 0.20162770\n",
            "Iteration 92, loss = 0.24182428\n",
            "Iteration 93, loss = 0.19427103\n",
            "Iteration 94, loss = 0.18918704\n",
            "Iteration 95, loss = 0.19149856\n",
            "Iteration 96, loss = 0.17957826\n",
            "Iteration 97, loss = 0.18136525\n",
            "Iteration 98, loss = 0.17016328\n",
            "Iteration 99, loss = 0.22439714\n",
            "Iteration 100, loss = 0.16844275\n",
            "Iteration 101, loss = 0.19523922\n",
            "Iteration 102, loss = 0.16374522\n",
            "Iteration 103, loss = 0.16880256\n",
            "Iteration 104, loss = 0.15313670\n",
            "Iteration 105, loss = 0.14614222\n",
            "Iteration 106, loss = 0.15632363\n",
            "Iteration 107, loss = 0.15441927\n",
            "Iteration 108, loss = 0.14449693\n",
            "Iteration 109, loss = 0.14282713\n",
            "Iteration 110, loss = 0.14303192\n",
            "Iteration 111, loss = 0.14555300\n",
            "Iteration 112, loss = 0.15893854\n",
            "Iteration 113, loss = 0.12493223\n",
            "Iteration 114, loss = 0.14444696\n",
            "Iteration 115, loss = 0.13860059\n",
            "Iteration 116, loss = 0.12769050\n",
            "Iteration 117, loss = 0.12236359\n",
            "Iteration 118, loss = 0.12261298\n",
            "Iteration 119, loss = 0.14711157\n",
            "Iteration 120, loss = 0.12828958\n",
            "Iteration 121, loss = 0.12736205\n",
            "Iteration 122, loss = 0.11508859\n",
            "Iteration 123, loss = 0.10988183\n",
            "Iteration 124, loss = 0.11547811\n",
            "Iteration 125, loss = 0.12644427\n",
            "Iteration 126, loss = 0.10633119\n",
            "Iteration 127, loss = 0.11919917\n",
            "Iteration 128, loss = 0.10698903\n",
            "Iteration 129, loss = 0.13198917\n",
            "Iteration 130, loss = 0.10811429\n",
            "Iteration 131, loss = 0.11106122\n",
            "Iteration 132, loss = 0.09778355\n",
            "Iteration 133, loss = 0.10210428\n",
            "Iteration 134, loss = 0.09524361\n",
            "Iteration 135, loss = 0.09483728\n",
            "Iteration 136, loss = 0.08573729\n",
            "Iteration 137, loss = 0.08431804\n",
            "Iteration 138, loss = 0.08655663\n",
            "Iteration 139, loss = 0.08239667\n",
            "Iteration 140, loss = 0.08180675\n",
            "Iteration 141, loss = 0.07851944\n",
            "Iteration 142, loss = 0.07424881\n",
            "Iteration 143, loss = 0.08243020\n",
            "Iteration 144, loss = 0.10059057\n",
            "Iteration 145, loss = 0.09431268\n",
            "Iteration 146, loss = 0.10527721\n",
            "Iteration 147, loss = 0.10434909\n",
            "Iteration 148, loss = 0.10338092\n",
            "Iteration 149, loss = 0.07199350\n",
            "Iteration 150, loss = 0.07048551\n",
            "Iteration 151, loss = 0.08905854\n",
            "Iteration 152, loss = 0.06464511\n",
            "Iteration 153, loss = 0.07049851\n",
            "Iteration 154, loss = 0.06649380\n",
            "Iteration 155, loss = 0.06862347\n",
            "Iteration 156, loss = 0.06561230\n",
            "Iteration 157, loss = 0.07087377\n",
            "Iteration 158, loss = 0.07901780\n",
            "Iteration 159, loss = 0.06586126\n",
            "Iteration 160, loss = 0.06740162\n",
            "Iteration 161, loss = 0.06176896\n",
            "Iteration 162, loss = 0.05829882\n",
            "Iteration 163, loss = 0.06224691\n",
            "Iteration 164, loss = 0.05858923\n",
            "Iteration 165, loss = 0.05717346\n",
            "Iteration 166, loss = 0.05701921\n",
            "Iteration 167, loss = 0.05508389\n",
            "Iteration 168, loss = 0.05249914\n",
            "Iteration 169, loss = 0.05440118\n",
            "Iteration 170, loss = 0.05114153\n",
            "Iteration 171, loss = 0.06006966\n",
            "Iteration 172, loss = 0.04930792\n",
            "Iteration 173, loss = 0.04905081\n",
            "Iteration 174, loss = 0.04871120\n",
            "Iteration 175, loss = 0.04996293\n",
            "Iteration 176, loss = 0.04993908\n",
            "Iteration 177, loss = 0.07883980\n",
            "Iteration 178, loss = 0.04805863\n",
            "Iteration 179, loss = 0.04593720\n",
            "Iteration 180, loss = 0.04479835\n",
            "Iteration 181, loss = 0.04617600\n",
            "Iteration 182, loss = 0.04455055\n",
            "Iteration 183, loss = 0.04227030\n",
            "Iteration 184, loss = 0.04735339\n",
            "Iteration 185, loss = 0.04161589\n",
            "Iteration 186, loss = 0.04253766\n",
            "Iteration 187, loss = 0.04186800\n",
            "Iteration 188, loss = 0.03792087\n",
            "Iteration 189, loss = 0.04031197\n",
            "Iteration 190, loss = 0.03923048\n",
            "Iteration 191, loss = 0.03939536\n",
            "Iteration 192, loss = 0.04023447\n",
            "Iteration 193, loss = 0.04007303\n",
            "Iteration 194, loss = 0.04246760\n",
            "Iteration 195, loss = 0.03925743\n",
            "Iteration 196, loss = 0.03697484\n",
            "Iteration 197, loss = 0.03576273\n",
            "Iteration 198, loss = 0.03752252\n",
            "Iteration 199, loss = 0.03651386\n",
            "Iteration 200, loss = 0.03586608\n",
            "Iteration 201, loss = 0.03712294\n",
            "Iteration 202, loss = 0.03483466\n",
            "Iteration 203, loss = 0.03412657\n",
            "Iteration 204, loss = 0.03310327\n",
            "Iteration 205, loss = 0.04147121\n",
            "Iteration 206, loss = 0.03623061\n",
            "Iteration 207, loss = 0.03347445\n",
            "Iteration 208, loss = 0.03205767\n",
            "Iteration 209, loss = 0.03154485\n",
            "Iteration 210, loss = 0.03262661\n",
            "Iteration 211, loss = 0.02997440\n",
            "Iteration 212, loss = 0.03344015\n",
            "Iteration 213, loss = 0.03184683\n",
            "Iteration 214, loss = 0.03201679\n",
            "Iteration 215, loss = 0.03198110\n",
            "Iteration 216, loss = 0.02929369\n",
            "Iteration 217, loss = 0.03370233\n",
            "Iteration 218, loss = 0.03030922\n",
            "Iteration 219, loss = 0.02858362\n",
            "Iteration 220, loss = 0.03040300\n",
            "Iteration 221, loss = 0.03697960\n",
            "Iteration 222, loss = 0.03103492\n",
            "Iteration 223, loss = 0.02747581\n",
            "Iteration 224, loss = 0.02675688\n",
            "Iteration 225, loss = 0.02723951\n",
            "Iteration 226, loss = 0.02831511\n",
            "Iteration 227, loss = 0.02647615\n",
            "Iteration 228, loss = 0.02741039\n",
            "Iteration 229, loss = 0.02721236\n",
            "Iteration 230, loss = 0.02719529\n",
            "Iteration 231, loss = 0.02569693\n",
            "Iteration 232, loss = 0.02717646\n",
            "Iteration 233, loss = 0.02460818\n",
            "Iteration 234, loss = 0.02652931\n",
            "Iteration 235, loss = 0.02502701\n",
            "Iteration 236, loss = 0.02550093\n",
            "Iteration 237, loss = 0.02477702\n",
            "Iteration 238, loss = 0.02495374\n",
            "Iteration 239, loss = 0.02500234\n",
            "Iteration 240, loss = 0.02428172\n",
            "Iteration 241, loss = 0.02441058\n",
            "Iteration 242, loss = 0.02382544\n",
            "Iteration 243, loss = 0.02325345\n",
            "Iteration 244, loss = 0.02319620\n",
            "Iteration 245, loss = 0.02403962\n",
            "Iteration 246, loss = 0.02245190\n",
            "Iteration 247, loss = 0.02345782\n",
            "Iteration 248, loss = 0.02276205\n",
            "Iteration 249, loss = 0.02226063\n",
            "Iteration 250, loss = 0.02414543\n",
            "Iteration 251, loss = 0.02334951\n",
            "Iteration 252, loss = 0.02143437\n",
            "Iteration 253, loss = 0.02244842\n",
            "Iteration 254, loss = 0.02243453\n",
            "Iteration 255, loss = 0.02180571\n",
            "Iteration 256, loss = 0.02060828\n",
            "Iteration 257, loss = 0.02097141\n",
            "Iteration 258, loss = 0.02051463\n",
            "Iteration 259, loss = 0.02155965\n",
            "Iteration 260, loss = 0.02150246\n",
            "Iteration 261, loss = 0.02070507\n",
            "Iteration 262, loss = 0.02031128\n",
            "Iteration 263, loss = 0.02042620\n",
            "Iteration 264, loss = 0.02004546\n",
            "Iteration 265, loss = 0.01952869\n",
            "Iteration 266, loss = 0.02118526\n",
            "Iteration 267, loss = 0.02091951\n",
            "Iteration 268, loss = 0.01940404\n",
            "Iteration 269, loss = 0.01955499\n",
            "Iteration 270, loss = 0.01948126\n",
            "Iteration 271, loss = 0.01889743\n",
            "Iteration 272, loss = 0.01903170\n",
            "Iteration 273, loss = 0.01937435\n",
            "Iteration 274, loss = 0.01949451\n",
            "Iteration 275, loss = 0.01871612\n",
            "Iteration 276, loss = 0.01881875\n",
            "Iteration 277, loss = 0.01834485\n",
            "Iteration 278, loss = 0.01833201\n",
            "Iteration 279, loss = 0.01795512\n",
            "Iteration 280, loss = 0.01849939\n",
            "Iteration 281, loss = 0.02012006\n",
            "Iteration 282, loss = 0.01766505\n",
            "Iteration 283, loss = 0.01771296\n",
            "Iteration 284, loss = 0.01790674\n",
            "Iteration 285, loss = 0.01784326\n",
            "Iteration 286, loss = 0.01722033\n",
            "Iteration 287, loss = 0.01811794\n",
            "Iteration 288, loss = 0.01731687\n",
            "Iteration 289, loss = 0.02083273\n",
            "Iteration 290, loss = 0.01825085\n",
            "Iteration 291, loss = 0.01678274\n",
            "Iteration 292, loss = 0.01717426\n",
            "Iteration 293, loss = 0.01710285\n",
            "Iteration 294, loss = 0.01735601\n",
            "Iteration 295, loss = 0.01689459\n",
            "Iteration 296, loss = 0.01626033\n",
            "Iteration 297, loss = 0.01642282\n",
            "Iteration 298, loss = 0.01616588\n",
            "Iteration 299, loss = 0.01610032\n",
            "Iteration 300, loss = 0.01590751\n",
            "Iteration 301, loss = 0.01581359\n",
            "Iteration 302, loss = 0.01627750\n",
            "Iteration 303, loss = 0.01621088\n",
            "Iteration 304, loss = 0.01582847\n",
            "Iteration 305, loss = 0.01558034\n",
            "Iteration 306, loss = 0.01588859\n",
            "Iteration 307, loss = 0.01549554\n",
            "Iteration 308, loss = 0.01541812\n",
            "Iteration 309, loss = 0.01549913\n",
            "Iteration 310, loss = 0.01560196\n",
            "Iteration 311, loss = 0.01510584\n",
            "Iteration 312, loss = 0.01527205\n",
            "Iteration 313, loss = 0.01484942\n",
            "Iteration 314, loss = 0.01494298\n",
            "Iteration 315, loss = 0.01497456\n",
            "Iteration 316, loss = 0.01484357\n",
            "Iteration 317, loss = 0.01495985\n",
            "Iteration 318, loss = 0.01453461\n",
            "Iteration 319, loss = 0.01452897\n",
            "Iteration 320, loss = 0.01473711\n",
            "Iteration 321, loss = 0.01421873\n",
            "Iteration 322, loss = 0.01456809\n",
            "Iteration 323, loss = 0.01456972\n",
            "Iteration 324, loss = 0.01427825\n",
            "Iteration 325, loss = 0.01425295\n",
            "Iteration 326, loss = 0.01431705\n",
            "Iteration 327, loss = 0.01376640\n",
            "Iteration 328, loss = 0.01405729\n",
            "Iteration 329, loss = 0.01363335\n",
            "Iteration 330, loss = 0.01386113\n",
            "Iteration 331, loss = 0.01377370\n",
            "Iteration 332, loss = 0.01367274\n",
            "Iteration 333, loss = 0.01353272\n",
            "Iteration 334, loss = 0.01366395\n",
            "Iteration 335, loss = 0.01293914\n",
            "Iteration 336, loss = 0.01345717\n",
            "Iteration 337, loss = 0.01358950\n",
            "Iteration 338, loss = 0.01333737\n",
            "Iteration 339, loss = 0.01300066\n",
            "Iteration 340, loss = 0.01316826\n",
            "Iteration 341, loss = 0.01291837\n",
            "Iteration 342, loss = 0.01310045\n",
            "Iteration 343, loss = 0.01287282\n",
            "Iteration 344, loss = 0.01280734\n",
            "Iteration 345, loss = 0.01275303\n",
            "Iteration 346, loss = 0.01265089\n",
            "Iteration 347, loss = 0.01255725\n",
            "Iteration 348, loss = 0.01259746\n",
            "Iteration 349, loss = 0.01247045\n",
            "Iteration 350, loss = 0.01242172\n",
            "Iteration 351, loss = 0.01264535\n",
            "Iteration 352, loss = 0.01217728\n",
            "Iteration 353, loss = 0.01258310\n",
            "Iteration 354, loss = 0.01235138\n",
            "Iteration 355, loss = 0.01240312\n",
            "Iteration 356, loss = 0.01217811\n",
            "Iteration 357, loss = 0.01213658\n",
            "Iteration 358, loss = 0.01216995\n",
            "Iteration 359, loss = 0.01176151\n",
            "Iteration 360, loss = 0.01213955\n",
            "Iteration 361, loss = 0.01187933\n",
            "Iteration 362, loss = 0.01178043\n",
            "Iteration 363, loss = 0.01198746\n",
            "Iteration 364, loss = 0.01181652\n",
            "Iteration 365, loss = 0.01165354\n",
            "Iteration 366, loss = 0.01159481\n",
            "Iteration 367, loss = 0.01191704\n",
            "Iteration 368, loss = 0.01145744\n",
            "Iteration 369, loss = 0.01167447\n",
            "Iteration 370, loss = 0.01161057\n",
            "Iteration 371, loss = 0.01140881\n",
            "Iteration 372, loss = 0.01135581\n",
            "Iteration 373, loss = 0.01132305\n",
            "Iteration 374, loss = 0.01135076\n",
            "Iteration 375, loss = 0.01132111\n",
            "Iteration 376, loss = 0.01127993\n",
            "Iteration 377, loss = 0.01122715\n",
            "Iteration 378, loss = 0.01110266\n",
            "Iteration 379, loss = 0.01105825\n",
            "Iteration 380, loss = 0.01113014\n",
            "Iteration 381, loss = 0.01105725\n",
            "Iteration 382, loss = 0.01092818\n",
            "Iteration 383, loss = 0.01093698\n",
            "Iteration 384, loss = 0.01104201\n",
            "Iteration 385, loss = 0.01063150\n",
            "Iteration 386, loss = 0.01077405\n",
            "Iteration 387, loss = 0.01088179\n",
            "Iteration 388, loss = 0.01074514\n",
            "Iteration 389, loss = 0.01055586\n",
            "Iteration 390, loss = 0.01075077\n",
            "Iteration 391, loss = 0.01057749\n",
            "Iteration 392, loss = 0.01051616\n",
            "Iteration 393, loss = 0.01038291\n",
            "Iteration 394, loss = 0.01045406\n",
            "Iteration 395, loss = 0.01029294\n",
            "Iteration 396, loss = 0.01046275\n",
            "Iteration 397, loss = 0.01049958\n",
            "Iteration 398, loss = 0.01038110\n",
            "Iteration 399, loss = 0.01026619\n",
            "Iteration 400, loss = 0.01032578\n",
            "Iteration 401, loss = 0.01028511\n",
            "Iteration 402, loss = 0.01011698\n",
            "Iteration 403, loss = 0.01016231\n",
            "Iteration 404, loss = 0.00989553\n",
            "Iteration 405, loss = 0.00994359\n",
            "Iteration 406, loss = 0.01016754\n",
            "Iteration 407, loss = 0.00983939\n",
            "Iteration 408, loss = 0.00992876\n",
            "Iteration 409, loss = 0.00979405\n",
            "Iteration 410, loss = 0.00975661\n",
            "Iteration 411, loss = 0.00980428\n",
            "Iteration 412, loss = 0.00970759\n",
            "Iteration 413, loss = 0.00967165\n",
            "Iteration 414, loss = 0.00968659\n",
            "Iteration 415, loss = 0.00981854\n",
            "Iteration 416, loss = 0.00969275\n",
            "Iteration 417, loss = 0.00949163\n",
            "Iteration 418, loss = 0.00963508\n",
            "Iteration 419, loss = 0.00941548\n",
            "Iteration 420, loss = 0.00947460\n",
            "Iteration 421, loss = 0.00956274\n",
            "Iteration 422, loss = 0.00941489\n",
            "Iteration 423, loss = 0.00957584\n",
            "Iteration 424, loss = 0.00939380\n",
            "Iteration 425, loss = 0.00928253\n",
            "Iteration 426, loss = 0.00930124\n",
            "Iteration 427, loss = 0.00926247\n",
            "Iteration 428, loss = 0.00906349\n",
            "Iteration 429, loss = 0.00925667\n",
            "Iteration 430, loss = 0.00929813\n",
            "Iteration 431, loss = 0.00915119\n",
            "Iteration 432, loss = 0.00911240\n",
            "Iteration 433, loss = 0.00911458\n",
            "Iteration 434, loss = 0.00908918\n",
            "Iteration 435, loss = 0.00900688\n",
            "Iteration 436, loss = 0.00895794\n",
            "Iteration 437, loss = 0.00904115\n",
            "Iteration 438, loss = 0.00892772\n",
            "Iteration 439, loss = 0.00888780\n",
            "Iteration 440, loss = 0.00885677\n",
            "Iteration 441, loss = 0.00875067\n",
            "Iteration 442, loss = 0.00886344\n",
            "Iteration 443, loss = 0.00870536\n",
            "Iteration 444, loss = 0.00875738\n",
            "Iteration 445, loss = 0.00875683\n",
            "Iteration 446, loss = 0.00860742\n",
            "Iteration 447, loss = 0.00865966\n",
            "Iteration 448, loss = 0.00874814\n",
            "Iteration 449, loss = 0.00861734\n",
            "Iteration 450, loss = 0.00858545\n",
            "Iteration 451, loss = 0.00852032\n",
            "Iteration 452, loss = 0.00854219\n",
            "Iteration 453, loss = 0.00853758\n",
            "Iteration 454, loss = 0.00840971\n",
            "Iteration 455, loss = 0.00840239\n",
            "Iteration 456, loss = 0.00839179\n",
            "Iteration 457, loss = 0.00831144\n",
            "Iteration 458, loss = 0.00837689\n",
            "Iteration 459, loss = 0.00837562\n",
            "Iteration 460, loss = 0.00832702\n",
            "Iteration 461, loss = 0.00826478\n",
            "Iteration 462, loss = 0.00820561\n",
            "Iteration 463, loss = 0.00818368\n",
            "Iteration 464, loss = 0.00825120\n",
            "Iteration 465, loss = 0.00812780\n",
            "Iteration 466, loss = 0.00824463\n",
            "Iteration 467, loss = 0.00810537\n",
            "Iteration 468, loss = 0.00801926\n",
            "Iteration 469, loss = 0.00805435\n",
            "Iteration 470, loss = 0.00809641\n",
            "Iteration 471, loss = 0.00804364\n",
            "Iteration 472, loss = 0.00807071\n",
            "Iteration 473, loss = 0.00799422\n",
            "Iteration 474, loss = 0.00800122\n",
            "Iteration 475, loss = 0.00781929\n",
            "Iteration 476, loss = 0.00792823\n",
            "Iteration 477, loss = 0.00784567\n",
            "Iteration 478, loss = 0.00785886\n",
            "Iteration 479, loss = 0.00788774\n",
            "Iteration 480, loss = 0.00777539\n",
            "Iteration 481, loss = 0.00786560\n",
            "Iteration 482, loss = 0.00771527\n",
            "Iteration 483, loss = 0.00780215\n",
            "Iteration 484, loss = 0.00763134\n",
            "Iteration 485, loss = 0.00768360\n",
            "Iteration 486, loss = 0.00769749\n",
            "Iteration 487, loss = 0.00766331\n",
            "Iteration 488, loss = 0.00761680\n",
            "Iteration 489, loss = 0.00761992\n",
            "Iteration 490, loss = 0.00759187\n",
            "Iteration 491, loss = 0.00748667\n",
            "Iteration 492, loss = 0.00754982\n",
            "Iteration 493, loss = 0.00753558\n",
            "Iteration 494, loss = 0.00752613\n",
            "Iteration 495, loss = 0.00749396\n",
            "Iteration 496, loss = 0.00746922\n",
            "Iteration 497, loss = 0.00745153\n",
            "Iteration 498, loss = 0.00739502\n",
            "Iteration 499, loss = 0.00741354\n",
            "Iteration 500, loss = 0.00741344\n",
            "Iteration 501, loss = 0.00733477\n",
            "Iteration 502, loss = 0.00738007\n",
            "Iteration 503, loss = 0.00735466\n",
            "Iteration 504, loss = 0.00731794\n",
            "Iteration 505, loss = 0.00725360\n",
            "Iteration 506, loss = 0.00715248\n",
            "Iteration 507, loss = 0.00717968\n",
            "Iteration 508, loss = 0.00721877\n",
            "Iteration 509, loss = 0.00719019\n",
            "Iteration 510, loss = 0.00713508\n",
            "Iteration 511, loss = 0.00715102\n",
            "Iteration 512, loss = 0.00705147\n",
            "Iteration 513, loss = 0.00717983\n",
            "Iteration 514, loss = 0.00701127\n",
            "Iteration 515, loss = 0.00711193\n",
            "Iteration 516, loss = 0.00698309\n",
            "Iteration 517, loss = 0.00707813\n",
            "Iteration 518, loss = 0.00705900\n",
            "Iteration 519, loss = 0.00697090\n",
            "Iteration 520, loss = 0.00703502\n",
            "Iteration 521, loss = 0.00697903\n",
            "Iteration 522, loss = 0.00693010\n",
            "Iteration 523, loss = 0.00689144\n",
            "Iteration 524, loss = 0.00696698\n",
            "Iteration 525, loss = 0.00692669\n",
            "Iteration 526, loss = 0.00683124\n",
            "Iteration 527, loss = 0.00684633\n",
            "Iteration 528, loss = 0.00684808\n",
            "Iteration 529, loss = 0.00679010\n",
            "Iteration 530, loss = 0.00672916\n",
            "Iteration 531, loss = 0.00684250\n",
            "Iteration 532, loss = 0.00669984\n",
            "Iteration 533, loss = 0.00675828\n",
            "Iteration 534, loss = 0.00670704\n",
            "Iteration 535, loss = 0.00671770\n",
            "Iteration 536, loss = 0.00675564\n",
            "Iteration 537, loss = 0.00669429\n",
            "Iteration 538, loss = 0.00660708\n",
            "Iteration 539, loss = 0.00670345\n",
            "Iteration 540, loss = 0.00664768\n",
            "Iteration 541, loss = 0.00657877\n",
            "Iteration 542, loss = 0.00652498\n",
            "Iteration 543, loss = 0.00658957\n",
            "Iteration 544, loss = 0.00656027\n",
            "Iteration 545, loss = 0.00660747\n",
            "Iteration 546, loss = 0.00652257\n",
            "Iteration 547, loss = 0.00647214\n",
            "Iteration 548, loss = 0.00649081\n",
            "Iteration 549, loss = 0.00647620\n",
            "Iteration 550, loss = 0.00645265\n",
            "Iteration 551, loss = 0.00645973\n",
            "Iteration 552, loss = 0.00648086\n",
            "Iteration 553, loss = 0.00641883\n",
            "Iteration 554, loss = 0.00635267\n",
            "Iteration 555, loss = 0.00640190\n",
            "Iteration 556, loss = 0.00639951\n",
            "Iteration 557, loss = 0.00633413\n",
            "Training loss did not improve more than tol=0.000100 for 50 consecutive epochs. Stopping.\n",
            "Training set accuracy:\t 1.0\n",
            "Test set accuracy:\t 0.8709677419354839\n"
          ]
        }
      ],
      "source": [
        "# Train with different numbers of hidden nodes\n",
        "from sklearn.model_selection import train_test_split\n",
        "X_train, X_test, y_train, y_test = train_test_split(X, y, test_size=0.25)\n",
        "learning_rate=0.1\n",
        "num_hidden_nodes = 512\n",
        "\n",
        "clf = MLPClassifier(hidden_layer_sizes=[num_hidden_nodes], activation='logistic', solver='sgd', \n",
        "                    alpha=0, batch_size=1, learning_rate_init=learning_rate, shuffle=True, \n",
        "                    momentum=0, n_iter_no_change=50, max_iter=1000, verbose=1)\n",
        "clf.fit(X_train, y_train)\n",
        "\n",
        "print('Training set accuracy:\\t', clf.score(X_train, y_train))\n",
        "print('Test set accuracy:\\t', clf.score(X_test, y_test))"
      ]
    },
    {
      "cell_type": "markdown",
      "metadata": {
        "id": "CLliSMtXtlxt"
      },
      "source": [
        "*Discuss your table and the effect of different numbers of hidden nodes on both training time and accuracy*\n",
        "\n",
        "| num hidden nodes | epochs til convergence | train accuracy | test accuracy |\n",
        "| ---------------- | --------------------- | -------------- | ------------- |\n",
        "| 1 | 189 | 0.000 | 0.000 |\n",
        "| 2 | 135 | 0.152 | 0.101 |\n",
        "| 4 | 213 | 0.449 | 0.444 |\n",
        "| 8 | 239 | 0.635 | 0.613 |\n",
        "| 16 | 477 | 0.937 | 0.778 |\n",
        "| 32 | 751 | 1.000 | 0.819 |\n",
        "| 64 | 530 | 1.000 | 0.875 |\n",
        "| 128 | 538 | 1.000 | 0.915 |\n",
        "| 256 | 501 | 1.000 | 0.927 |\n",
        "| 512 | 557 | 1.000 | 0.871 |\n",
        "\n",
        "It surprised me that the accuracy kept improving for so long (with more and more hidden nodes)"
      ]
    },
    {
      "cell_type": "markdown",
      "metadata": {
        "id": "v72ryeHXtlxu"
      },
      "source": [
        "### 2.4 (10%) Momentum\n",
        "\n",
        "Try at least 5 different momentum terms between 0 and just less than 1 using the best number of hidden nodes and LR from your earlier experiments.\n",
        "\n",
        "- Create a table just like above, except with momentum values rather than LR or number of hidden nodes."
      ]
    },
    {
      "cell_type": "code",
      "execution_count": null,
      "metadata": {
        "id": "yiEBTL6Vtlxu"
      },
      "outputs": [],
      "source": [
        "# Train with different momentum values"
      ]
    },
    {
      "cell_type": "markdown",
      "metadata": {
        "id": "LqidhekCtlxu"
      },
      "source": [
        "*Discuss your table and the effect of momentum on both training time and accuracy*"
      ]
    },
    {
      "cell_type": "markdown",
      "metadata": {
        "id": "7hHxNgUCtlxv"
      },
      "source": [
        "### 2.5 (10%) Automatic Hyperparameter Discovery\n",
        "Using the vowel dataset, automatically adjust the LR, # of hidden nodes, and momentum using [grid and random search](https://scikit-learn.org/stable/modules/grid_search.html) \n",
        "- For grid search include the most promising hyperparameter values you used in your experiments above.  You may add others also.\n",
        "- Be patient as the grid search can take a while since it has to train all combinations of models. Don't use too many parameter options or it will too slow.\n",
        "- Report your best hyperparameters and accuracy.  Unfortunately, you will not always get as high a score as you might expect.  This is in part due to the simplicity of the dataset.  It also teaches that in gerneral you should not always blindly assume that a tool will get you the results you expect and that you may need to consider multiple approaches."
      ]
    },
    {
      "cell_type": "code",
      "execution_count": null,
      "metadata": {},
      "outputs": [],
      "source": [
        "#Grid search for hyperparameters.\n",
        "#Here is one variation of code you could use for your grid search. You can try your own variation if you prefer.\n",
        "\n",
        "from sklearn.model_selection import GridSearchCV\n",
        "clf = MLPClassifier(activation='logistic', solver='sgd',alpha=0,early_stopping=True, n_iter_no_change=10, batch_size=1)\n",
        "parameters = {'learning_rate_init':( .001, ?, ....), #You have to fill in the rest of your values for these lists\n",
        "              'hidden_layer_sizes': ([8], [?], ...),\n",
        "              'momentum':(0, ?, ...)\n",
        "grid = GridSearchCV(clf, parameters)\n",
        "grid.fit(X,Y)    #This takes a while to run\n",
        "print(grid.best_params_)\n",
        "print(grid.best_score_)"
      ]
    },
    {
      "cell_type": "code",
      "execution_count": null,
      "metadata": {},
      "outputs": [],
      "source": [
        "#Randomized search for hyperparameters\n",
        "#Here is one variation of code you could use for your randomized search.\n",
        "\n",
        "from sklearn.model_selection import RandomizedSearchCV\n",
        "from scipy.stats import uniform\n",
        "clf = MLPClassifier(activation='logistic', solver='sgd',alpha=0,early_stopping=True, n_iter_no_change=10, batch_size=1)\n",
        "distributions = dict(learning_rate_init=uniform(loc=?, scale=?), #loc is the min val, and loc + scale is the max val\n",
        "                    hidden_layer_sizes = ([8], [?], ...), #since there is no distribution it samples these values uniformly\n",
        "                    momentum=uniform(loc=0,scale =.99))\n",
        "search = RandomizedSearchCV(clf, distributions, n_iter=10)\n",
        "search.fit(X,Y)\n",
        "print(search.best_params_)\n",
        "print(search.best_score_)"
      ]
    },
    {
      "cell_type": "markdown",
      "metadata": {
        "id": "BqSFAXwlk3Ms"
      },
      "source": [
        "*Discussion and comparison of grid and randomized parameter search*"
      ]
    },
    {
      "cell_type": "markdown",
      "metadata": {
        "id": "lIM0rEA9tlxu"
      },
      "source": [
        "## 3 Regression with MLPs\n",
        "\n",
        "### 3.1 (10%) - Learn a regression data set of your choice\n",
        "\n",
        "Train MLP on any real world data set that requires regression (i.e. has a real valued ouput) and discuss your effort and results.  While the [Irvine ML Repository](https://archive.ics.uci.edu) is a great resource, also onsider [Kaggle](https://www.kaggle.com) and [OpenML](https://openml.org) as other great place to find datasets.\n",
        "- Use [MLPRegressor](https://scikit-learn.org/stable/modules/generated/sklearn.neural_network.MLPRegressor.html#sklearn.neural_network.MLPRegressor) rather than MLPclassifier.  It has almost the exact same setup as MLPClassier except it uses the linear activation function for the output nodes and SSE as the loss function.  MLPClassier uses softmax activation for the output nodes and cross-entropy for the loss function.\n",
        "- Use any reasonable hyperparameters that you want.  \n",
        "- You will probably need to normalize input features.\n",
        "- It is not typically necessary to normalize the output.\n",
        "- Split into train and test and report the training and test set MAEs (Mean Absolute Error). For regression problems where we don't normalize the output, MAE is an intuitive measure as it shows exactly how much our output is off on average."
      ]
    },
    {
      "cell_type": "code",
      "execution_count": null,
      "metadata": {
        "id": "OFQv70W2VyqJ"
      },
      "outputs": [],
      "source": [
        "# Load and Learn a real world regression data set\n",
        "# To calculate MAE you could do a variation of the following\n",
        "\n",
        "from sklearn.metrics import mean_absolute_error\n",
        "print(mean_absolute_error(clf.predict(X_test), y_test))"
      ]
    },
    {
      "cell_type": "markdown",
      "metadata": {},
      "source": [
        "*Discussion*"
      ]
    },
    {
      "cell_type": "markdown",
      "metadata": {},
      "source": [
        "### 3.2 (10%) - Other MLP Hyperparameters \n",
        "With the same data set, you may (not required) experiment with some of the hyperparameters you already did above (LR, hidden nodes, momentum, validation set parameters, regularization).  But for sure experiment with and discuss the results of the first two hyperparameters below (activation functions and multiple hidden layers).  We encourage you to experiment briefly with the others but they are not required. \n",
        "\n",
        "- different hidden layer activation functions (tanh, relu in addition to logistic) - Note that Sklean does not currently let you choose the output layer activation function.  It is automatically softmax for classification and linear for regression.\n",
        "- more than one hidden layer\n",
        "- solver - try adam and lbfgs in addition to sgd\n",
        "- batch size\n",
        "- learning rate adaptation - this is the schedule parameter which lets LR adapt during learning"
      ]
    },
    {
      "cell_type": "code",
      "execution_count": null,
      "metadata": {
        "id": "Hu1JE4vStlxv"
      },
      "outputs": [],
      "source": [
        "# Run with different hyperparameters"
      ]
    },
    {
      "cell_type": "markdown",
      "metadata": {
        "id": "HScVQasltlxv"
      },
      "source": [
        "*Discussion*"
      ]
    },
    {
      "cell_type": "markdown",
      "metadata": {
        "id": "cTlK-kijk8Mg"
      },
      "source": [
        "## 4. (Optional 20% extra credit) Code up your own MLP/Backprop learner \n",
        "Below is a scaffold you could use if you want. Requirements for this task:\n",
        "- Your model should support the methods shown in the example scaffold below.\n",
        "- Ability to create a network structure with at least one hidden layer and an arbitrary number of nodes. You may choose just one activation function for all hidden and output nodes if you want (e.g. logistic activation function where the loss is SSE rather than cross-entropy).\n",
        "- Random weight initialization with small random weights with 0 mean. Remember that every hidden and output node should have its own bias weight.\n",
        "- Use stochastic training updates: update weights after each training instance (i.e. not batch)\n",
        "- Option to include a momentum term\n",
        "- Your class can inherit from the relevant scikit-learn learners (e.g. data shuffling, etc.), but don't call any of the super methods to accomplish the core methods in the scaffold.\n",
        "- Run the Iris data set above with your Backprop version. Show and discuss your results and how they compare with the sklearn version.\n",
        "- Coding MLP is a good experience but is a little more challening that implementing other models so the extra credit points are higher than typical."
      ]
    },
    {
      "cell_type": "markdown",
      "metadata": {
        "id": "rokMDC3Qtlxv"
      },
      "source": [
        "*Discuss your results and any differences*"
      ]
    },
    {
      "cell_type": "code",
      "execution_count": null,
      "metadata": {
        "id": "hn8n_iR8tlxv"
      },
      "outputs": [],
      "source": [
        "from sklearn.base import BaseEstimator, ClassifierMixin\n",
        "\n",
        "class MLP(BaseEstimator,ClassifierMixin):\n",
        "\n",
        "    def __init__(self,lr=.1, momentum=0, shuffle=True,hidden_layer_widths=None):\n",
        "        \"\"\" Initialize class with chosen hyperparameters.\n",
        "\n",
        "        Args:\n",
        "            lr (float): A learning rate / step size.\n",
        "            shuffle(boolean): Whether to shuffle the training data each epoch. DO NOT SHUFFLE for evaluation / debug datasets.\n",
        "            momentum(float): The momentum coefficent \n",
        "        Optional Args (Args we think will make your life easier):\n",
        "            hidden_layer_widths (list(int)): A list of integers which defines the width of each hidden layer if hidden layer is none do twice as many hidden nodes as input nodes. (and then one more for the bias node)\n",
        "            For example: input width 1, then hidden layer will be 3 nodes\n",
        "        Example:\n",
        "            mlp = MLP(lr=.2,momentum=.5,shuffle=False,hidden_layer_widths = [3,3]),  <--- this will create a model with two hidden layers, both 3 nodes wide\n",
        "        \"\"\"\n",
        "        self.hidden_layer_widths\n",
        "        self.lr = lr\n",
        "        self.momentum = momentum\n",
        "        self.shuffle = shuffle\n",
        "\n",
        "\n",
        "    def fit(self, X, y, initial_weights=None):\n",
        "        \"\"\" Fit the data; run the algorithm and adjust the weights to find a good solution\n",
        "\n",
        "        Args:\n",
        "            X (array-like): A 2D numpy array with the training data, excluding targets\n",
        "            y (array-like): A 2D numpy array with the training targets\n",
        "        Optional Args (Args we think will make your life easier):\n",
        "            initial_weights (array-like): allows the user to provide initial weights\n",
        "        Returns:\n",
        "            self: this allows this to be chained, e.g. model.fit(X,y).predict(X_test)\n",
        "\n",
        "        \"\"\"\n",
        "        self.weights = self.initialize_weights() if not initial_weights else initial_weights\n",
        "\n",
        "        return self\n",
        "\n",
        "    def predict(self, X):\n",
        "        \"\"\" Predict all classes for a dataset X\n",
        "        Args:\n",
        "            X (array-like): A 2D numpy array with the training data, excluding targets\n",
        "        Returns:\n",
        "            array, shape (n_samples,)\n",
        "                Predicted target values per element in X.\n",
        "        \"\"\"\n",
        "        pass\n",
        "\n",
        "    def initialize_weights(self):\n",
        "        \"\"\" Initialize weights for perceptron. Don't forget the bias!\n",
        "\n",
        "        Returns:\n",
        "\n",
        "        \"\"\"\n",
        "\n",
        "        return [0]\n",
        "\n",
        "    def score(self, X, y):\n",
        "        \"\"\" Return accuracy of model on a given dataset. Must implement own score function.\n",
        "\n",
        "        Args:\n",
        "            X (array-like): A 2D numpy array with data, excluding targets\n",
        "            y (array-like): A 2D numpy array with targets\n",
        "\n",
        "        Returns:\n",
        "            score : float\n",
        "                Mean accuracy of self.predict(X) wrt. y.\n",
        "        \"\"\"\n",
        "\n",
        "        return 0\n",
        "\n",
        "    ###  Returns the weights. Not required but helpful for debugging\n",
        "    def get_weights(self):\n",
        "        pass\n"
      ]
    }
  ],
  "metadata": {
    "colab": {
      "collapsed_sections": [],
      "provenance": []
    },
    "kernelspec": {
      "display_name": "Python 2.7.16 64-bit",
      "language": "python",
      "name": "python3"
    },
    "language_info": {
      "codemirror_mode": {
        "name": "ipython",
        "version": 3
      },
      "file_extension": ".py",
      "mimetype": "text/x-python",
      "name": "python",
      "nbconvert_exporter": "python",
      "pygments_lexer": "ipython3",
      "version": "3.12.1"
    },
    "vscode": {
      "interpreter": {
        "hash": "767d51c1340bd893661ea55ea3124f6de3c7a262a8b4abca0554b478b1e2ff90"
      }
    }
  },
  "nbformat": 4,
  "nbformat_minor": 0
}
